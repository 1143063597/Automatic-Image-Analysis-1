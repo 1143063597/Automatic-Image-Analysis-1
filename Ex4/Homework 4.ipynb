{
 "cells": [
  {
   "cell_type": "markdown",
   "metadata": {},
   "source": [
    "# Homework 4 : Model Selection\n",
    "\n",
    "The goal of this homework is find a suitable model that can distinguish handwritten digits."
   ]
  },
  {
   "cell_type": "code",
   "execution_count": null,
   "metadata": {
    "ExecuteTime": {
     "end_time": "2022-06-04T12:31:29.355088Z",
     "start_time": "2022-06-04T12:31:24.682819Z"
    }
   },
   "outputs": [],
   "source": [
    "import random\n",
    "import torchvision\n",
    "import numpy as np\n",
    "from matplotlib import pyplot as plt\n",
    "from sklearn.model_selection import KFold\n",
    "from sklearn.metrics import accuracy_score\n",
    "import sklearn\n",
    "\n",
    "def prepareData(n=1000):\n",
    "    \"\"\"\n",
    "    Downloads the dataset. Displays some examples.\n",
    "    Returns the labeled dataset.\n",
    "\n",
    "    Parameters\n",
    "    ----------\n",
    "    n : number of data sample (max 70 000)\n",
    "\n",
    "    Returns\n",
    "    -------\n",
    "    X : Data Matrix\n",
    "        (n, 28, 28).\n",
    "    y : labels\n",
    "        n\n",
    "\n",
    "    \"\"\"\n",
    "    mnist_train = torchvision.datasets.MNIST(\"./data\", download=True,)\n",
    "    mnist_test = torchvision.datasets.MNIST(\"./data\", download=True, train = False)\n",
    "    \n",
    "\n",
    "    \n",
    "    X = []\n",
    "    y = []\n",
    "    for x,label in mnist_train:\n",
    "        X.append(np.array(x))\n",
    "        y.append(label)\n",
    "    \n",
    "    X_test = []\n",
    "    y_test = []\n",
    "    for x,label in mnist_test:\n",
    "        X_test.append(np.array(x))\n",
    "        y_test.append(label)\n",
    "    \n",
    "    X = np.array(X)\n",
    "    y = np.array(y)\n",
    "    X_test= np.array(X_test)\n",
    "    y_test = np.array(y_test)\n",
    "    \n",
    "    \n",
    "    sample = random.sample(range(len(X)), n)\n",
    "    X = np.concatenate((X,X_test))[sample]\n",
    "    y = np.concatenate((y,y_test))[sample]\n",
    "    \n",
    "    \n",
    "    return X,y\n",
    "\n",
    "def showSamples(X,y):\n",
    "    fig=plt.figure(figsize=(8, 5))\n",
    "    columns = 5\n",
    "    rows = 2\n",
    "    imgs = [X[i,:,:] for i in range(10)]\n",
    "    for i in range(1, columns*rows +1):\n",
    "        fig.add_subplot(rows, columns, i)\n",
    "        plt.imshow(X[i-1,:,:] , cmap =\"gray\")\n",
    "        plt.axis('off')\n",
    "        plt.title(str(y[i-1]))\n",
    "    plt.show()"
   ]
  },
  {
   "cell_type": "code",
   "execution_count": 2,
   "metadata": {
    "ExecuteTime": {
     "end_time": "2022-06-04T12:31:31.659750Z",
     "start_time": "2022-06-04T12:31:29.357040Z"
    }
   },
   "outputs": [
    {
     "data": {
      "image/png": "[encoded data removed]",
      "text/plain": [
       "<Figure size 576x360 with 10 Axes>"
      ]
     },
     "metadata": {
      "needs_background": "light"
     },
     "output_type": "display_data"
    },
    {
     "name": "stdout",
     "output_type": "stream",
     "text": [
      "Shape of data matrix X: (1000, 28, 28)\n",
      "Shape of labels y: (1000,)\n"
     ]
    }
   ],
   "source": [
    "X,y = prepareData(1000)\n",
    "showSamples(X,y)\n",
    "print(\"Shape of data matrix X:\", X.shape)\n",
    "print(\"Shape of labels y:\", y.shape)"
   ]
  },
  {
   "cell_type": "markdown",
   "metadata": {},
   "source": [
    "# Extract features and Train Model\n",
    "\n",
    "TODO:\n",
    "- Use any feature extraction method. Compute edges, histogram of oriented gradients, contours etc. to get a more concise representation of the images. \n",
    "- Train different models to learn a classification. \n",
    " - You can use any classification model. However, it is easier to use the models from sklearn: https://scikit-learn.org/stable/auto_examples/classification/plot_classifier_comparison.html\n",
    " "
   ]
  },
  {
   "cell_type": "code",
   "execution_count": 3,
   "metadata": {
    "ExecuteTime": {
     "end_time": "2022-06-04T12:31:31.675751Z",
     "start_time": "2022-06-04T12:31:31.662756Z"
    }
   },
   "outputs": [],
   "source": [
    "def featureExtraction(x,method):\n",
    "    \"\"\"\n",
    "    Applies a feature extraction on a singular image.\n",
    "\n",
    "    Parameters\n",
    "    ----------\n",
    "    x : ndarray\n",
    "        a numpy array of shape 28x28\n",
    "\n",
    "    Returns\n",
    "    -------\n",
    "    ndarray\n",
    "        The resulting feature should be one-dimensional (use x.flatten())\n",
    "    \"\"\"\n",
    "    #TODO: Define a feauture extraction method. \n",
    "    # This method is called individually on each data point. \n",
    "    # You can also look into methods that do feature extraction on the complete dataset.\n",
    "    if(method == \"pca\"):\n",
    "        from sklearn.decomposition import PCA\n",
    "\n",
    "        pca = PCA(n_components=20)\n",
    "        pca.fit(x)\n",
    "\n",
    "        return pca.singular_values_\n",
    "    elif(method == \"edge\"):\n",
    "        import cv2 \n",
    "        img_blur = cv2.GaussianBlur(x, (3,3), 0)\n",
    "\n",
    "        edges = cv2.Canny(image=img_blur, threshold1=100, threshold2=200)\n",
    "        return edges.flatten()\n",
    "    elif(method == \"nn\"):\n",
    "        return x.flatten()\n",
    "    \n",
    "def preprocessDataset(X, method):\n",
    "    \"\"\"\n",
    "    Applies a feature extraction on a dataset\n",
    "\n",
    "    Parameters\n",
    "    ----------\n",
    "    X : ndarray\n",
    "        Data matrix of size nx28x28\n",
    "    Returns\n",
    "    -------\n",
    "    X_prep : ndarray\n",
    "        Data matrix of size nxd where d is some dimension of the feature\n",
    "    \"\"\"\n",
    "    \n",
    "    # TODO: (Optional) You can change this if necessary\n",
    "    X_prep = []\n",
    "    for i in range(len(X)):\n",
    "        x = X[i,:,:]\n",
    "        x = featureExtraction(x, method)\n",
    "        X_prep.append(x)    \n",
    "    X_prep = np.array(X_prep)\n",
    "    return X_prep\n",
    "\n",
    "\n",
    "def train(X, y, classfier):\n",
    "    # TODO: Select a classifier from sklearn and train it on the data\n",
    "    if(classfier == \"bayes\"):\n",
    "        from sklearn.naive_bayes import GaussianNB\n",
    "        model = GaussianNB()\n",
    "        model.fit(X, y)\n",
    "        return model\n",
    "    elif(classfier == \"dtree\"):\n",
    "        from sklearn import tree\n",
    "        model = tree.DecisionTreeClassifier()\n",
    "        model = model.fit(X, y)\n",
    "        return model\n",
    "    elif(classfier == \"mlp\"):\n",
    "        from sklearn.neural_network import MLPClassifier\n",
    "        model = MLPClassifier(solver='adam', alpha=1e-1,hidden_layer_sizes=(5,5))\n",
    "        model.fit(X, y)\n",
    "        return model"
   ]
  },
  {
   "cell_type": "markdown",
   "metadata": {},
   "source": [
    "# K-fold Cross Validation\n",
    "\n",
    "TODO:\n",
    "- Implement K-Fold Cross Validation\n",
    " - Split data into k partitions\n",
    " - Train model on k-1 partitions\n",
    " - Evaluate model on remaining partition using **Accuracy** as a metric\n",
    " - repeat k-times and compute **average Accuracy** over all splits\n",
    " \n",
    "The following code computes cross-validation on a single data split.\n",
    "Adjust the code to evaluate on multiple splits."
   ]
  },
  {
   "cell_type": "code",
   "execution_count": null,
   "metadata": {
    "ExecuteTime": {
     "end_time": "2022-06-04T12:38:34.832388Z",
     "start_time": "2022-06-04T12:31:31.677765Z"
    }
   },
   "outputs": [],
   "source": [
    "import itertools\n",
    "\n",
    "# Number of data samples (reduce number during initial test runs if procedure takes too long)\n",
    "n = 50000\n",
    "X, y = prepareData(n)\n",
    "\n",
    "methods = [\"pca\",\"edge\", \"nn\"]\n",
    "classfiers = [\"bayes\", \"dtree\", \"mlp\"]\n",
    "\n",
    "X_records = {}\n",
    "y_records = {}\n",
    "\n",
    "for method, classfier in list(itertools.product(methods, classfiers)):\n",
    "    # Feature extraction\n",
    "    D = preprocessDataset(np.copy(X), method)\n",
    "\n",
    "    # Number of k-folds\n",
    "    n_splits = 5\n",
    "    # train_size = len(X) - len(X)//n_splits\n",
    "    test_size = len(X)//n_splits\n",
    "\n",
    "    X_record = []\n",
    "    y_record = []\n",
    "\n",
    "    for i in range(n_splits):\n",
    "\n",
    "        # Cross Validation on a single split: First k-1 splits are used for training and remaining for evaluation.\n",
    "        X_test = np.copy(D[test_size * i:test_size*(i+1)])\n",
    "        y_test = np.copy(y[test_size * i:test_size*(i+1)])\n",
    "\n",
    "        if(i == 0):\n",
    "            X_train = np.copy(D[test_size: ])\n",
    "            y_train = np.copy(y[test_size:])\n",
    "        elif(i == n_splits-1):\n",
    "            X_train = np.copy(D[:test_size*i])\n",
    "            y_train = np.copy(y[:test_size*i])\n",
    "        else:\n",
    "            X_train = np.copy(np.concatenate((D[:test_size],D[test_size*(i+1):])))\n",
    "            y_train = np.copy(np.concatenate((y[:test_size],y[test_size*(i+1):])))\n",
    "\n",
    "        # Train model\n",
    "        model = train(X_train, y_train, classfier)\n",
    "        \n",
    "\n",
    "        # Evaluate model on unseen data\n",
    "        y_pred = model.predict(X_test)\n",
    "        y_pred_train = model.predict(X_train)\n",
    "#         print(method + \" \" + classfier + \": \", end='')\n",
    "#         print(\"Accuracy Training:\" + str(accuracy_score(y_train,y_pred_train)) + \", \", end='')\n",
    "#         print(\"Accuracy Test:\" + str(accuracy_score(y_test,y_pred)))\n",
    "        X_record.append(accuracy_score(y_train,y_pred_train))\n",
    "        y_record.append(accuracy_score(y_test,y_pred))\n",
    "        \n",
    "    X_records[method + \"_\" + classfier] = round(np.mean(np.array(X_record)),2)\n",
    "    y_records[method + \"_\" + classfier] = round(np.mean(np.array(y_record)),2)"
   ]
  },
  {
   "cell_type": "code",
   "execution_count": 6,
   "metadata": {
    "ExecuteTime": {
     "end_time": "2022-06-04T12:45:04.575534Z",
     "start_time": "2022-06-04T12:45:04.565537Z"
    }
   },
   "outputs": [
    {
     "name": "stdout",
     "output_type": "stream",
     "text": [
      "Training:  {'pca_bayes': 0.25, 'pca_dtree': 1.0, 'pca_mlp': 0.23, 'edge_bayes': 0.48, 'edge_dtree': 1.0, 'edge_mlp': 0.66, 'nn_bayes': 0.57, 'nn_dtree': 1.0, 'nn_mlp': 0.33}\n",
      "Testing:  {'pca_bayes': 0.25, 'pca_dtree': 0.29, 'pca_mlp': 0.23, 'edge_bayes': 0.48, 'edge_dtree': 0.74, 'edge_mlp': 0.63, 'nn_bayes': 0.56, 'nn_dtree': 0.85, 'nn_mlp': 0.32}\n"
     ]
    }
   ],
   "source": [
    "print(\"Training: \", X_records)\n",
    "print(\"Testing: \", y_records)"
   ]
  },
  {
   "cell_type": "markdown",
   "metadata": {},
   "source": [
    "## Training \n",
    "|  |PCA | canny edge extraction | flatten |\n",
    "|---|---|---|---|\n",
    "|bayes   | 0.25  |0.48   |0.57   |   \n",
    "|decision tree   |1.0   |1.0   |1.0   |   \n",
    "|mlp   |0.23   |0.66   | 0.33  |   "
   ]
  },
  {
   "cell_type": "markdown",
   "metadata": {},
   "source": [
    "## Testing\n",
    "|  |PCA | canny edge extraction | flatten |\n",
    "|---|---|---|---|\n",
    "|bayes   | 0.25  |0.48   |0.57 5 |   \n",
    "|decision tree   |0.29   |0.74   |0.85   |   \n",
    "|mlp   |0.23   |0.63  | 0.32  |   "
   ]
  },
  {
   "cell_type": "markdown",
   "metadata": {},
   "source": [
    "The best result is using decision tree and just flatten the input as feature vectors."
   ]
  },
  {
   "cell_type": "markdown",
   "metadata": {},
   "source": [
    "# Document your model selection\n",
    "\n",
    "TODO:\n",
    "- Repeat the previous steps, adjust your feature extraction and classification methods until you get satisfying accuracy results.\n",
    "- Document your experiments. \n",
    "- **Tip:** Adjust the previous code, such that you can run multiple experiments, e.g. run different combinations of feature extractors and classifiers."
   ]
  }
 ],
 "metadata": {
  "kernelspec": {
   "display_name": "Python 3 (ipykernel)",
   "language": "python",
   "name": "python3"
  },
  "language_info": {
   "codemirror_mode": {
    "name": "ipython",
    "version": 3
   },
   "file_extension": ".py",
   "mimetype": "text/x-python",
   "name": "python",
   "nbconvert_exporter": "python",
   "pygments_lexer": "ipython3",
   "version": "3.7.0"
  },
  "latex_envs": {
   "LaTeX_envs_menu_present": true,
   "autoclose": false,
   "autocomplete": true,
   "bibliofile": "biblio.bib",
   "cite_by": "apalike",
   "current_citInitial": 1,
   "eqLabelWithNumbers": true,
   "eqNumInitial": 1,
   "hotkeys": {
    "equation": "Ctrl-E",
    "itemize": "Ctrl-I"
   },
   "labels_anchors": false,
   "latex_user_defs": false,
   "report_style_numbering": false,
   "user_envs_cfg": false
  }
 },
 "nbformat": 4,
 "nbformat_minor": 4
}
